{
  "nbformat": 4,
  "nbformat_minor": 0,
  "metadata": {
    "colab": {
      "name": "OJASVI_VERMA.ipynb",
      "provenance": []
    },
    "kernelspec": {
      "name": "python3",
      "display_name": "Python 3"
    },
    "language_info": {
      "name": "python"
    }
  },
  "cells": [
    {
      "cell_type": "code",
      "metadata": {
        "id": "DyY0yuwt29RC"
      },
      "source": [
        "from keras.datasets import mnist \n",
        " \n",
        "data = mnist.load_data()\n"
      ],
      "execution_count": 38,
      "outputs": []
    },
    {
      "cell_type": "code",
      "metadata": {
        "colab": {
          "base_uri": "https://localhost:8080/"
        },
        "id": "WoINj6R77hCm",
        "outputId": "813896e9-acb8-42a4-c63b-7ed11315939a"
      },
      "source": [
        "((X_train, y_train), (X_test, y_test)) = data\n",
        "X_train.shape"
      ],
      "execution_count": 39,
      "outputs": [
        {
          "output_type": "execute_result",
          "data": {
            "text/plain": [
              "(60000, 28, 28)"
            ]
          },
          "metadata": {
            "tags": []
          },
          "execution_count": 39
        }
      ]
    },
    {
      "cell_type": "code",
      "metadata": {
        "id": "rW5274xm9zF2"
      },
      "source": [
        "X_train = X_train.reshape((X_train.shape[0], 28 * 28)).astype('float32')\n",
        "X_test = X_test.reshape((X_test.shape[0], 28 * 28)).astype('float32')\n",
        "\n"
      ],
      "execution_count": 41,
      "outputs": []
    },
    {
      "cell_type": "code",
      "metadata": {
        "id": "Q5JAfgMbC4bV"
      },
      "source": [
        "X_train = X_train / 255\n",
        "X_test = X_test / 255\n"
      ],
      "execution_count": 40,
      "outputs": []
    },
    {
      "cell_type": "code",
      "metadata": {
        "id": "im9mioiCDkBU"
      },
      "source": [
        "from keras.utils import np_utils as n\n",
        "\n",
        "y_train = n.to_categorical(y_train)\n",
        "y_test = n.to_categorical(y_test)\n",
        " \n",
        "\n",
        "num_classes = y_test.shape[1] \n"
      ],
      "execution_count": 42,
      "outputs": []
    },
    {
      "cell_type": "code",
      "metadata": {
        "id": "l6EVkM9rFPol"
      },
      "source": [
        "from keras.models import Sequential\n",
        "from keras.layers import Dense\n",
        "\n",
        "model = Sequential()\n",
        "\n",
        "model.add(Dense(32, input_dim = 28*28, activation = 'relu'))\n",
        "model.add(Dense(64, activation = 'relu'))\n",
        "model.add(Dense(10, activation = 'softmax'))\n"
      ],
      "execution_count": 43,
      "outputs": []
    },
    {
      "cell_type": "code",
      "metadata": {
        "id": "VXPCc6WrgeCO"
      },
      "source": [
        "model.compile(loss = 'categorical_crossentropy', optimizer = 'adam', metrics = ['accuracy'])"
      ],
      "execution_count": 44,
      "outputs": []
    },
    {
      "cell_type": "code",
      "metadata": {
        "colab": {
          "base_uri": "https://localhost:8080/"
        },
        "id": "ejdIzREuh2CL",
        "outputId": "bd96d5b7-9026-4826-c5e8-b999e505dc52"
      },
      "source": [
        "model.summary()"
      ],
      "execution_count": 45,
      "outputs": [
        {
          "output_type": "stream",
          "text": [
            "Model: \"sequential_2\"\n",
            "_________________________________________________________________\n",
            "Layer (type)                 Output Shape              Param #   \n",
            "=================================================================\n",
            "dense_3 (Dense)              (None, 32)                25120     \n",
            "_________________________________________________________________\n",
            "dense_4 (Dense)              (None, 64)                2112      \n",
            "_________________________________________________________________\n",
            "dense_5 (Dense)              (None, 10)                650       \n",
            "=================================================================\n",
            "Total params: 27,882\n",
            "Trainable params: 27,882\n",
            "Non-trainable params: 0\n",
            "_________________________________________________________________\n"
          ],
          "name": "stdout"
        }
      ]
    },
    {
      "cell_type": "code",
      "metadata": {
        "colab": {
          "base_uri": "https://localhost:8080/"
        },
        "id": "LSIO4TIMiIOj",
        "outputId": "cb850da3-b5d2-480b-cf71-349551e66d58"
      },
      "source": [
        "model.fit(X_train, y_train, epochs = 15, batch_size = 200)"
      ],
      "execution_count": 50,
      "outputs": [
        {
          "output_type": "stream",
          "text": [
            "Epoch 1/15\n",
            "300/300 [==============================] - 1s 3ms/step - loss: 0.0403 - accuracy: 0.9886\n",
            "Epoch 2/15\n",
            "300/300 [==============================] - 1s 3ms/step - loss: 0.0390 - accuracy: 0.9882\n",
            "Epoch 3/15\n",
            "300/300 [==============================] - 1s 3ms/step - loss: 0.0362 - accuracy: 0.9891\n",
            "Epoch 4/15\n",
            "300/300 [==============================] - 1s 3ms/step - loss: 0.0355 - accuracy: 0.9891\n",
            "Epoch 5/15\n",
            "300/300 [==============================] - 1s 3ms/step - loss: 0.0328 - accuracy: 0.9899\n",
            "Epoch 6/15\n",
            "300/300 [==============================] - 1s 3ms/step - loss: 0.0299 - accuracy: 0.9913\n",
            "Epoch 7/15\n",
            "300/300 [==============================] - 1s 3ms/step - loss: 0.0293 - accuracy: 0.9914\n",
            "Epoch 8/15\n",
            "300/300 [==============================] - 1s 3ms/step - loss: 0.0280 - accuracy: 0.9916\n",
            "Epoch 9/15\n",
            "300/300 [==============================] - 1s 3ms/step - loss: 0.0255 - accuracy: 0.9927\n",
            "Epoch 10/15\n",
            "300/300 [==============================] - 1s 3ms/step - loss: 0.0250 - accuracy: 0.9923\n",
            "Epoch 11/15\n",
            "300/300 [==============================] - 1s 3ms/step - loss: 0.0222 - accuracy: 0.9938\n",
            "Epoch 12/15\n",
            "300/300 [==============================] - 1s 3ms/step - loss: 0.0230 - accuracy: 0.9929\n",
            "Epoch 13/15\n",
            "300/300 [==============================] - 1s 3ms/step - loss: 0.0210 - accuracy: 0.9938\n",
            "Epoch 14/15\n",
            "300/300 [==============================] - 1s 3ms/step - loss: 0.0194 - accuracy: 0.9943\n",
            "Epoch 15/15\n",
            "300/300 [==============================] - 1s 3ms/step - loss: 0.0184 - accuracy: 0.9948\n"
          ],
          "name": "stdout"
        },
        {
          "output_type": "execute_result",
          "data": {
            "text/plain": [
              "<tensorflow.python.keras.callbacks.History at 0x7fe9037aa710>"
            ]
          },
          "metadata": {
            "tags": []
          },
          "execution_count": 50
        }
      ]
    },
    {
      "cell_type": "code",
      "metadata": {
        "colab": {
          "base_uri": "https://localhost:8080/"
        },
        "id": "ytD0KLjOil2A",
        "outputId": "0625f57a-9216-4fd4-f83b-889d5e17061c"
      },
      "source": [
        "scores = model.evaluate(X_test, y_test )\n",
        "print(scores)"
      ],
      "execution_count": 51,
      "outputs": [
        {
          "output_type": "stream",
          "text": [
            "313/313 [==============================] - 0s 1ms/step - loss: 0.1102 - accuracy: 0.9714\n",
            "[0.11020053923130035, 0.9714000225067139]\n"
          ],
          "name": "stdout"
        }
      ]
    }
  ]
}